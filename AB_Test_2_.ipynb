{
  "nbformat": 4,
  "nbformat_minor": 0,
  "metadata": {
    "colab": {
      "name": "AB_Test 2 .ipynb",
      "provenance": [],
      "mount_file_id": "1CizKG6ly45QLmmCTGYAdbqOxw4qV3jUp",
      "authorship_tag": "ABX9TyO9QNIyvFniMA7yLXU0nLtp",
      "include_colab_link": true
    },
    "kernelspec": {
      "name": "python3",
      "display_name": "Python 3"
    },
    "language_info": {
      "name": "python"
    }
  },
  "cells": [
    {
      "cell_type": "markdown",
      "metadata": {
        "id": "view-in-github",
        "colab_type": "text"
      },
      "source": [
        "<a href=\"https://colab.research.google.com/github/sabaagizew/abtest-mlops/blob/main/AB_Test_2_.ipynb\" target=\"_parent\"><img src=\"https://colab.research.google.com/assets/colab-badge.svg\" alt=\"Open In Colab\"/></a>"
      ]
    },
    {
      "cell_type": "code",
      "metadata": {
        "id": "6TBEBN9uo8up"
      },
      "source": [
        "#Loading useful packages\n",
        "import numpy as np\n",
        "import pandas as pd\n",
        "\n",
        "import warnings\n",
        "warnings.filterwarnings('ignore')\n",
        "\n",
        "import scipy\n",
        "from scipy import stats\n",
        "\n",
        "from sklearn import preprocessing\n",
        "from sklearn.feature_selection import SelectFromModel\n",
        "from sklearn.model_selection import train_test_split\n",
        "from sklearn.model_selection import KFold\n",
        "from sklearn.model_selection import cross_val_score\n",
        "from sklearn.linear_model import LogisticRegression\n",
        "from sklearn.tree import DecisionTreeClassifier\n",
        "import xgboost as xgb\n",
        "from xgboost import XGBClassifier\n",
        "from xgboost import plot_importance\n",
        "\n",
        "from sklearn import metrics\n",
        "from sklearn.metrics import mean_squared_error, mean_absolute_error,r2_score\n",
        "from sklearn.metrics import accuracy_score, confusion_matrix\n",
        "import matplotlib.pyplot as plt\n",
        "%matplotlib inline\n",
        "import seaborn as sns"
      ],
      "execution_count": 1,
      "outputs": []
    },
    {
      "cell_type": "code",
      "metadata": {
        "id": "jUdHKPeepL79"
      },
      "source": [
        "pd.set_option('max_column', None)\n",
        "df= pd.read_csv('drive/MyDrive/AdSmartABdata.csv')"
      ],
      "execution_count": 4,
      "outputs": []
    },
    {
      "cell_type": "code",
      "metadata": {
        "colab": {
          "base_uri": "https://localhost:8080/",
          "height": 204
        },
        "id": "4NJNyS6-p2YE",
        "outputId": "a2ccd5a8-0257-44cd-af1a-c407f38b7941"
      },
      "source": [
        "df.head(5)\n"
      ],
      "execution_count": 5,
      "outputs": [
        {
          "output_type": "execute_result",
          "data": {
            "text/html": [
              "<div>\n",
              "<style scoped>\n",
              "    .dataframe tbody tr th:only-of-type {\n",
              "        vertical-align: middle;\n",
              "    }\n",
              "\n",
              "    .dataframe tbody tr th {\n",
              "        vertical-align: top;\n",
              "    }\n",
              "\n",
              "    .dataframe thead th {\n",
              "        text-align: right;\n",
              "    }\n",
              "</style>\n",
              "<table border=\"1\" class=\"dataframe\">\n",
              "  <thead>\n",
              "    <tr style=\"text-align: right;\">\n",
              "      <th></th>\n",
              "      <th>auction_id</th>\n",
              "      <th>experiment</th>\n",
              "      <th>date</th>\n",
              "      <th>hour</th>\n",
              "      <th>device_make</th>\n",
              "      <th>platform_os</th>\n",
              "      <th>browser</th>\n",
              "      <th>yes</th>\n",
              "      <th>no</th>\n",
              "    </tr>\n",
              "  </thead>\n",
              "  <tbody>\n",
              "    <tr>\n",
              "      <th>0</th>\n",
              "      <td>0008ef63-77a7-448b-bd1e-075f42c55e39</td>\n",
              "      <td>exposed</td>\n",
              "      <td>2020-07-10</td>\n",
              "      <td>8</td>\n",
              "      <td>Generic Smartphone</td>\n",
              "      <td>6</td>\n",
              "      <td>Chrome Mobile</td>\n",
              "      <td>0</td>\n",
              "      <td>0</td>\n",
              "    </tr>\n",
              "    <tr>\n",
              "      <th>1</th>\n",
              "      <td>000eabc5-17ce-4137-8efe-44734d914446</td>\n",
              "      <td>exposed</td>\n",
              "      <td>2020-07-07</td>\n",
              "      <td>10</td>\n",
              "      <td>Generic Smartphone</td>\n",
              "      <td>6</td>\n",
              "      <td>Chrome Mobile</td>\n",
              "      <td>0</td>\n",
              "      <td>0</td>\n",
              "    </tr>\n",
              "    <tr>\n",
              "      <th>2</th>\n",
              "      <td>0016d14a-ae18-4a02-a204-6ba53b52f2ed</td>\n",
              "      <td>exposed</td>\n",
              "      <td>2020-07-05</td>\n",
              "      <td>2</td>\n",
              "      <td>E5823</td>\n",
              "      <td>6</td>\n",
              "      <td>Chrome Mobile WebView</td>\n",
              "      <td>0</td>\n",
              "      <td>1</td>\n",
              "    </tr>\n",
              "    <tr>\n",
              "      <th>3</th>\n",
              "      <td>00187412-2932-4542-a8ef-3633901c98d9</td>\n",
              "      <td>control</td>\n",
              "      <td>2020-07-03</td>\n",
              "      <td>15</td>\n",
              "      <td>Samsung SM-A705FN</td>\n",
              "      <td>6</td>\n",
              "      <td>Facebook</td>\n",
              "      <td>0</td>\n",
              "      <td>0</td>\n",
              "    </tr>\n",
              "    <tr>\n",
              "      <th>4</th>\n",
              "      <td>001a7785-d3fe-4e11-a344-c8735acacc2c</td>\n",
              "      <td>control</td>\n",
              "      <td>2020-07-03</td>\n",
              "      <td>15</td>\n",
              "      <td>Generic Smartphone</td>\n",
              "      <td>6</td>\n",
              "      <td>Chrome Mobile</td>\n",
              "      <td>0</td>\n",
              "      <td>0</td>\n",
              "    </tr>\n",
              "  </tbody>\n",
              "</table>\n",
              "</div>"
            ],
            "text/plain": [
              "                             auction_id experiment        date  hour  \\\n",
              "0  0008ef63-77a7-448b-bd1e-075f42c55e39    exposed  2020-07-10     8   \n",
              "1  000eabc5-17ce-4137-8efe-44734d914446    exposed  2020-07-07    10   \n",
              "2  0016d14a-ae18-4a02-a204-6ba53b52f2ed    exposed  2020-07-05     2   \n",
              "3  00187412-2932-4542-a8ef-3633901c98d9    control  2020-07-03    15   \n",
              "4  001a7785-d3fe-4e11-a344-c8735acacc2c    control  2020-07-03    15   \n",
              "\n",
              "          device_make  platform_os                browser  yes  no  \n",
              "0  Generic Smartphone            6          Chrome Mobile    0   0  \n",
              "1  Generic Smartphone            6          Chrome Mobile    0   0  \n",
              "2               E5823            6  Chrome Mobile WebView    0   1  \n",
              "3   Samsung SM-A705FN            6               Facebook    0   0  \n",
              "4  Generic Smartphone            6          Chrome Mobile    0   0  "
            ]
          },
          "metadata": {
            "tags": []
          },
          "execution_count": 5
        }
      ]
    },
    {
      "cell_type": "code",
      "metadata": {
        "colab": {
          "base_uri": "https://localhost:8080/"
        },
        "id": "rAsbiOqcp2lF",
        "outputId": "9554d8a7-7be6-4ea4-fa50-56e7334b20e6"
      },
      "source": [
        "df.isnull().sum()"
      ],
      "execution_count": 9,
      "outputs": [
        {
          "output_type": "execute_result",
          "data": {
            "text/plain": [
              "auction_id     0\n",
              "experiment     0\n",
              "date           0\n",
              "hour           0\n",
              "device_make    0\n",
              "platform_os    0\n",
              "browser        0\n",
              "yes            0\n",
              "no             0\n",
              "dtype: int64"
            ]
          },
          "metadata": {
            "tags": []
          },
          "execution_count": 9
        }
      ]
    },
    {
      "cell_type": "code",
      "metadata": {
        "id": "Px502U6JswkJ"
      },
      "source": [
        "#Task 2.2: ML modelling with MLOps\n"
      ],
      "execution_count": null,
      "outputs": []
    },
    {
      "cell_type": "code",
      "metadata": {
        "colab": {
          "base_uri": "https://localhost:8080/",
          "height": 221
        },
        "id": "hmXQocVmtMRa",
        "outputId": "e949d704-b8f1-4080-b275-5847eb6f937d"
      },
      "source": [
        "import numpy as np\n",
        "import pandas as pd \n",
        "import os\n",
        "import seaborn as sns\n",
        "import matplotlib.pyplot as plt\n",
        "import seaborn as sns\n",
        "plt.style.use('fivethirtyeight')\n",
        "\n",
        "\n",
        "\n",
        "from keras import Sequential\n",
        "from keras import optimizers\n",
        "from keras.preprocessing.sequence import pad_sequences\n",
        "from keras.models import Sequential,Model\n",
        "from keras.layers import LSTM, Dense, Bidirectional, Input,Dropout,BatchNormalization,CuDNNLSTM, GRU, CuDNNGRU, Embedding, GlobalMaxPooling1D, GlobalAveragePooling1D, Flatten\n",
        "from keras import backend as K\n",
        "from keras.engine.topology import Layer\n",
        "from keras import initializers, regularizers, constraints\n",
        "from sklearn.model_selection import KFold, cross_val_score, train_test_split\n",
        "\n",
        "train = pd.read_csv('drive/MyDrive/AdSmartABdata.csv')\n",
        "display(train.shape)\n",
        "\n",
        "train.head()"
      ],
      "execution_count": 17,
      "outputs": [
        {
          "output_type": "display_data",
          "data": {
            "text/plain": [
              "(8077, 9)"
            ]
          },
          "metadata": {
            "tags": []
          }
        },
        {
          "output_type": "execute_result",
          "data": {
            "text/html": [
              "<div>\n",
              "<style scoped>\n",
              "    .dataframe tbody tr th:only-of-type {\n",
              "        vertical-align: middle;\n",
              "    }\n",
              "\n",
              "    .dataframe tbody tr th {\n",
              "        vertical-align: top;\n",
              "    }\n",
              "\n",
              "    .dataframe thead th {\n",
              "        text-align: right;\n",
              "    }\n",
              "</style>\n",
              "<table border=\"1\" class=\"dataframe\">\n",
              "  <thead>\n",
              "    <tr style=\"text-align: right;\">\n",
              "      <th></th>\n",
              "      <th>auction_id</th>\n",
              "      <th>experiment</th>\n",
              "      <th>date</th>\n",
              "      <th>hour</th>\n",
              "      <th>device_make</th>\n",
              "      <th>platform_os</th>\n",
              "      <th>browser</th>\n",
              "      <th>yes</th>\n",
              "      <th>no</th>\n",
              "    </tr>\n",
              "  </thead>\n",
              "  <tbody>\n",
              "    <tr>\n",
              "      <th>0</th>\n",
              "      <td>0008ef63-77a7-448b-bd1e-075f42c55e39</td>\n",
              "      <td>exposed</td>\n",
              "      <td>2020-07-10</td>\n",
              "      <td>8</td>\n",
              "      <td>Generic Smartphone</td>\n",
              "      <td>6</td>\n",
              "      <td>Chrome Mobile</td>\n",
              "      <td>0</td>\n",
              "      <td>0</td>\n",
              "    </tr>\n",
              "    <tr>\n",
              "      <th>1</th>\n",
              "      <td>000eabc5-17ce-4137-8efe-44734d914446</td>\n",
              "      <td>exposed</td>\n",
              "      <td>2020-07-07</td>\n",
              "      <td>10</td>\n",
              "      <td>Generic Smartphone</td>\n",
              "      <td>6</td>\n",
              "      <td>Chrome Mobile</td>\n",
              "      <td>0</td>\n",
              "      <td>0</td>\n",
              "    </tr>\n",
              "    <tr>\n",
              "      <th>2</th>\n",
              "      <td>0016d14a-ae18-4a02-a204-6ba53b52f2ed</td>\n",
              "      <td>exposed</td>\n",
              "      <td>2020-07-05</td>\n",
              "      <td>2</td>\n",
              "      <td>E5823</td>\n",
              "      <td>6</td>\n",
              "      <td>Chrome Mobile WebView</td>\n",
              "      <td>0</td>\n",
              "      <td>1</td>\n",
              "    </tr>\n",
              "    <tr>\n",
              "      <th>3</th>\n",
              "      <td>00187412-2932-4542-a8ef-3633901c98d9</td>\n",
              "      <td>control</td>\n",
              "      <td>2020-07-03</td>\n",
              "      <td>15</td>\n",
              "      <td>Samsung SM-A705FN</td>\n",
              "      <td>6</td>\n",
              "      <td>Facebook</td>\n",
              "      <td>0</td>\n",
              "      <td>0</td>\n",
              "    </tr>\n",
              "    <tr>\n",
              "      <th>4</th>\n",
              "      <td>001a7785-d3fe-4e11-a344-c8735acacc2c</td>\n",
              "      <td>control</td>\n",
              "      <td>2020-07-03</td>\n",
              "      <td>15</td>\n",
              "      <td>Generic Smartphone</td>\n",
              "      <td>6</td>\n",
              "      <td>Chrome Mobile</td>\n",
              "      <td>0</td>\n",
              "      <td>0</td>\n",
              "    </tr>\n",
              "  </tbody>\n",
              "</table>\n",
              "</div>"
            ],
            "text/plain": [
              "                             auction_id experiment        date  hour  \\\n",
              "0  0008ef63-77a7-448b-bd1e-075f42c55e39    exposed  2020-07-10     8   \n",
              "1  000eabc5-17ce-4137-8efe-44734d914446    exposed  2020-07-07    10   \n",
              "2  0016d14a-ae18-4a02-a204-6ba53b52f2ed    exposed  2020-07-05     2   \n",
              "3  00187412-2932-4542-a8ef-3633901c98d9    control  2020-07-03    15   \n",
              "4  001a7785-d3fe-4e11-a344-c8735acacc2c    control  2020-07-03    15   \n",
              "\n",
              "          device_make  platform_os                browser  yes  no  \n",
              "0  Generic Smartphone            6          Chrome Mobile    0   0  \n",
              "1  Generic Smartphone            6          Chrome Mobile    0   0  \n",
              "2               E5823            6  Chrome Mobile WebView    0   1  \n",
              "3   Samsung SM-A705FN            6               Facebook    0   0  \n",
              "4  Generic Smartphone            6          Chrome Mobile    0   0  "
            ]
          },
          "metadata": {
            "tags": []
          },
          "execution_count": 17
        }
      ]
    },
    {
      "cell_type": "code",
      "metadata": {
        "id": "c8SdDonTtQOD"
      },
      "source": [
        "y= train.head().platform_os"
      ],
      "execution_count": 18,
      "outputs": []
    },
    {
      "cell_type": "code",
      "metadata": {
        "id": "b2VVRL2LtQWM"
      },
      "source": [
        "x=train.head().drop('browser',axis=1)\n"
      ],
      "execution_count": 19,
      "outputs": []
    },
    {
      "cell_type": "code",
      "metadata": {
        "colab": {
          "base_uri": "https://localhost:8080/",
          "height": 204
        },
        "id": "0Vn-OMd2tQZh",
        "outputId": "a891d5b2-6b27-4a2a-ed92-97527cadb103"
      },
      "source": [
        "x.head()"
      ],
      "execution_count": 20,
      "outputs": [
        {
          "output_type": "execute_result",
          "data": {
            "text/html": [
              "<div>\n",
              "<style scoped>\n",
              "    .dataframe tbody tr th:only-of-type {\n",
              "        vertical-align: middle;\n",
              "    }\n",
              "\n",
              "    .dataframe tbody tr th {\n",
              "        vertical-align: top;\n",
              "    }\n",
              "\n",
              "    .dataframe thead th {\n",
              "        text-align: right;\n",
              "    }\n",
              "</style>\n",
              "<table border=\"1\" class=\"dataframe\">\n",
              "  <thead>\n",
              "    <tr style=\"text-align: right;\">\n",
              "      <th></th>\n",
              "      <th>auction_id</th>\n",
              "      <th>experiment</th>\n",
              "      <th>date</th>\n",
              "      <th>hour</th>\n",
              "      <th>device_make</th>\n",
              "      <th>platform_os</th>\n",
              "      <th>yes</th>\n",
              "      <th>no</th>\n",
              "    </tr>\n",
              "  </thead>\n",
              "  <tbody>\n",
              "    <tr>\n",
              "      <th>0</th>\n",
              "      <td>0008ef63-77a7-448b-bd1e-075f42c55e39</td>\n",
              "      <td>exposed</td>\n",
              "      <td>2020-07-10</td>\n",
              "      <td>8</td>\n",
              "      <td>Generic Smartphone</td>\n",
              "      <td>6</td>\n",
              "      <td>0</td>\n",
              "      <td>0</td>\n",
              "    </tr>\n",
              "    <tr>\n",
              "      <th>1</th>\n",
              "      <td>000eabc5-17ce-4137-8efe-44734d914446</td>\n",
              "      <td>exposed</td>\n",
              "      <td>2020-07-07</td>\n",
              "      <td>10</td>\n",
              "      <td>Generic Smartphone</td>\n",
              "      <td>6</td>\n",
              "      <td>0</td>\n",
              "      <td>0</td>\n",
              "    </tr>\n",
              "    <tr>\n",
              "      <th>2</th>\n",
              "      <td>0016d14a-ae18-4a02-a204-6ba53b52f2ed</td>\n",
              "      <td>exposed</td>\n",
              "      <td>2020-07-05</td>\n",
              "      <td>2</td>\n",
              "      <td>E5823</td>\n",
              "      <td>6</td>\n",
              "      <td>0</td>\n",
              "      <td>1</td>\n",
              "    </tr>\n",
              "    <tr>\n",
              "      <th>3</th>\n",
              "      <td>00187412-2932-4542-a8ef-3633901c98d9</td>\n",
              "      <td>control</td>\n",
              "      <td>2020-07-03</td>\n",
              "      <td>15</td>\n",
              "      <td>Samsung SM-A705FN</td>\n",
              "      <td>6</td>\n",
              "      <td>0</td>\n",
              "      <td>0</td>\n",
              "    </tr>\n",
              "    <tr>\n",
              "      <th>4</th>\n",
              "      <td>001a7785-d3fe-4e11-a344-c8735acacc2c</td>\n",
              "      <td>control</td>\n",
              "      <td>2020-07-03</td>\n",
              "      <td>15</td>\n",
              "      <td>Generic Smartphone</td>\n",
              "      <td>6</td>\n",
              "      <td>0</td>\n",
              "      <td>0</td>\n",
              "    </tr>\n",
              "  </tbody>\n",
              "</table>\n",
              "</div>"
            ],
            "text/plain": [
              "                             auction_id experiment        date  hour  \\\n",
              "0  0008ef63-77a7-448b-bd1e-075f42c55e39    exposed  2020-07-10     8   \n",
              "1  000eabc5-17ce-4137-8efe-44734d914446    exposed  2020-07-07    10   \n",
              "2  0016d14a-ae18-4a02-a204-6ba53b52f2ed    exposed  2020-07-05     2   \n",
              "3  00187412-2932-4542-a8ef-3633901c98d9    control  2020-07-03    15   \n",
              "4  001a7785-d3fe-4e11-a344-c8735acacc2c    control  2020-07-03    15   \n",
              "\n",
              "          device_make  platform_os  yes  no  \n",
              "0  Generic Smartphone            6    0   0  \n",
              "1  Generic Smartphone            6    0   0  \n",
              "2               E5823            6    0   1  \n",
              "3   Samsung SM-A705FN            6    0   0  \n",
              "4  Generic Smartphone            6    0   0  "
            ]
          },
          "metadata": {
            "tags": []
          },
          "execution_count": 20
        }
      ]
    },
    {
      "cell_type": "code",
      "metadata": {
        "colab": {
          "base_uri": "https://localhost:8080/"
        },
        "id": "QE2DQhiStbIb",
        "outputId": "50745549-41fa-4cb4-f051-8857891a08c2"
      },
      "source": [
        "y.head()"
      ],
      "execution_count": 21,
      "outputs": [
        {
          "output_type": "execute_result",
          "data": {
            "text/plain": [
              "0    6\n",
              "1    6\n",
              "2    6\n",
              "3    6\n",
              "4    6\n",
              "Name: platform_os, dtype: int64"
            ]
          },
          "metadata": {
            "tags": []
          },
          "execution_count": 21
        }
      ]
    },
    {
      "cell_type": "code",
      "metadata": {
        "id": "NTFWlSWWOOGz"
      },
      "source": [
        "#train_test_split"
      ],
      "execution_count": 22,
      "outputs": []
    },
    {
      "cell_type": "code",
      "metadata": {
        "colab": {
          "base_uri": "https://localhost:8080/"
        },
        "id": "cri_lAmats2x",
        "outputId": "ece90aac-4aa0-443f-c81d-9ff52449f87e"
      },
      "source": [
        "#train_test_split\n",
        "x_train,x_test,y_train,y_test=train_test_split(x,y,test_size=0.1)\n",
        "print(\"shape of original dataset :\", train.head().shape)\n",
        "print(\"shape of input - training set\", x_train.shape)\n",
        "print(\"shape of output - training set\", y_train.shape)\n",
        "print(\"shape of input - testing set\", x_test.shape)\n",
        "print(\"shape of output - testing set\", y_test.shape)\n"
      ],
      "execution_count": 23,
      "outputs": [
        {
          "output_type": "stream",
          "text": [
            "shape of original dataset : (5, 9)\n",
            "shape of input - training set (4, 8)\n",
            "shape of output - training set (4,)\n",
            "shape of input - testing set (1, 8)\n",
            "shape of output - testing set (1,)\n"
          ],
          "name": "stdout"
        }
      ]
    },
    {
      "cell_type": "code",
      "metadata": {
        "id": "mU556x-1tz5S"
      },
      "source": [
        ""
      ],
      "execution_count": null,
      "outputs": []
    },
    {
      "cell_type": "code",
      "metadata": {
        "id": "ciDbnG5OrDis"
      },
      "source": [
        "import datetime\n",
        "df['date']=pd.to_datetime(df['date'])\n",
        "df['day']=pd.Series(df['date'].dt.day_name())\n",
        "\n",
        "#drop rows where both columns yes and no are 0\n",
        "drop_rows=df[(df['yes']==0) & (df['no']==0)].index\n",
        "df.drop(drop_rows,inplace=True)\n",
        "\n",
        "#drop columns auction_id, no because that information is on column yes\n",
        "df=df.drop(['auction_id','no','date'],axis=1)"
      ],
      "execution_count": 13,
      "outputs": []
    },
    {
      "cell_type": "code",
      "metadata": {
        "id": "HfMVCFgdrDsR"
      },
      "source": [
        "browser=df.drop(['platform_os'],axis=1)\n",
        "platform=df.drop(['browser'],axis=1)\n",
        "#browser.reset_index()\n",
        "#platform.reset_index()"
      ],
      "execution_count": 14,
      "outputs": []
    },
    {
      "cell_type": "code",
      "metadata": {
        "id": "GBV2WlIlryPs"
      },
      "source": [
        "#Label Encoding to convert text columns to numerical format\n",
        "from sklearn import preprocessing\n",
        "le=preprocessing.LabelEncoder()\n",
        "\n",
        "def label_en(df):\n",
        "    columns=df.columns\n",
        "    for i in columns:\n",
        "        df[i]=le.fit_transform(df[i].astype(str))\n",
        "        \n",
        "label_en(browser)\n",
        "label_en(platform)"
      ],
      "execution_count": 24,
      "outputs": []
    },
    {
      "cell_type": "code",
      "metadata": {
        "id": "ZRpASwyVryTD"
      },
      "source": [
        "def loss_function(y_test, y_preds):\n",
        "    rmse = np.sqrt(mean_squared_error(y_test, y_preds))\n",
        "    r_sq = r2_score(y_test, y_preds)\n",
        "    mae = mean_absolute_error(y_test, y_preds)\n",
        "\n",
        "    print('Prediction RMSE Score: {}'.format(rmse))\n",
        "    print('Prediction R2_Squared: {}'.format(r_sq))\n",
        "    print('Prediction MAE Score: {}'.format(mae))"
      ],
      "execution_count": 25,
      "outputs": []
    },
    {
      "cell_type": "code",
      "metadata": {
        "id": "o5auJ1vlud6R"
      },
      "source": [
        "#Train a machine learning model using 5-fold cross validation using Logistic Regression.\n"
      ],
      "execution_count": null,
      "outputs": []
    },
    {
      "cell_type": "code",
      "metadata": {
        "id": "UBDtFTv4rycK"
      },
      "source": [
        "def log_model(X_train,X_test,y_train,y_test):\n",
        "    kfold=KFold(n_splits=5,random_state=42,shuffle=True)\n",
        "    model=LogisticRegression()\n",
        "    #hyper-parameter tuning\n",
        "    scores = cross_val_score(model, X_train, y_train, scoring='accuracy', cv=kfold, n_jobs=-1)\n",
        "    print('Validation Accuracy: %.3f (%.3f)' %(np.mean(scores), np.std(scores)))\n",
        "    model.fit(X_train,y_train)\n",
        "    y_pred = model.predict(X_test)\n",
        "    loss_function(y_test, y_pred)\n",
        "    \n",
        "    #get feature importance\n",
        "    importance = model.coef_[0]\n",
        "    # summarize feature importance\n",
        "    for i,v in enumerate(importance):\n",
        "        print('Feature: %0d, Score: %.5f' % (i,v))\n",
        "\n",
        "    # plot feature importance\n",
        "    sns.barplot([x for x in range(len(importance))], importance,palette='summer')\n",
        "    plt.title('Logistic Regression Feature Importance')\n",
        "    plt.show()"
      ],
      "execution_count": 26,
      "outputs": []
    },
    {
      "cell_type": "code",
      "metadata": {
        "id": "y4jllp9QuJ-5"
      },
      "source": [
        "#Decision Trees\n",
        "# It is effective in classifying complex datasets."
      ],
      "execution_count": 27,
      "outputs": []
    },
    {
      "cell_type": "code",
      "metadata": {
        "id": "uky5GPYaul2r"
      },
      "source": [
        "def decision_trees(X_train,X_test,y_train,y_test):\n",
        "    kfold=KFold(n_splits=5,random_state=42,shuffle=True)\n",
        "    dtree=DecisionTreeClassifier()\n",
        "    #hyper-parameter tuning\n",
        "    scores = cross_val_score(dtree, X_train, y_train, scoring='accuracy', cv=kfold, n_jobs=-1)\n",
        "    print('Validation Accuracy: %.3f (%.3f)' %(np.mean(scores), np.std(scores)))\n",
        "    dtree.fit(X_train,y_train)\n",
        "    y_pred = dtree.predict(X_test)\n",
        "    loss_function(y_test, y_pred)\n",
        "    \n",
        "    importance = dtree.feature_importances_\n",
        "    # summarize feature importance\n",
        "    for i,v in enumerate(importance):\n",
        "        print('Feature: %0d, Score: %.5f' % (i,v))\n",
        "\n",
        "    # plot feature importance\n",
        "    sns.barplot([x for x in range(len(importance))], importance,palette='summer')\n",
        "    plt.title('Decision Tree Classifier Feature Importance')\n",
        "    plt.show()"
      ],
      "execution_count": 28,
      "outputs": []
    },
    {
      "cell_type": "code",
      "metadata": {
        "id": "ghb4FW7burDS"
      },
      "source": [
        "#XGBoost\n",
        "#It merge several weak learning models together to produce a strong predictive model"
      ],
      "execution_count": null,
      "outputs": []
    },
    {
      "cell_type": "code",
      "metadata": {
        "id": "-s8E-BE5umAR"
      },
      "source": [
        "def xgboost_model(X_train,X_test,y_train,y_test):\n",
        "    kfold=KFold(n_splits=5,random_state=42,shuffle=True)\n",
        "    model=XGBClassifier()\n",
        "    scores = cross_val_score(model, X_train, y_train, scoring='accuracy', cv=kfold, n_jobs=-1)\n",
        "    print('Validation Accuracy: %.3f (%.3f)' %(np.mean(scores), np.std(scores)))\n",
        "    model.fit(X_train,y_train)\n",
        "    y_pred=model.predict(X_test)\n",
        "    loss_function(y_test, y_pred)\n",
        "    \n",
        "    # Fit model using each importance as a threshold\n",
        "    thresholds = np.sort(model.feature_importances_)\n",
        "    for thresh in thresholds:\n",
        "        # select features using threshold\n",
        "        selection = SelectFromModel(model, threshold=thresh, prefit=True)\n",
        "        select_X_train = selection.transform(X_train)\n",
        "        # train model\n",
        "        selection_model = XGBClassifier(verbosity=0)\n",
        "        selection_model.fit(select_X_train, y_train)\n",
        "        # eval model\n",
        "        select_X_test = selection.transform(X_test)\n",
        "        y_pred = selection_model.predict(select_X_test)\n",
        "        predictions = [round(value) for value in y_pred]\n",
        "        accuracy = accuracy_score(y_test, predictions)\n",
        "        print(\"Thresh=%.3f, n=%d, Accuracy: %.2f%%\" % (thresh, select_X_train.shape[1], accuracy*100.0))\n",
        "        \n",
        "    plot_importance(model,color='#B0C485')\n",
        "    plt.show()"
      ],
      "execution_count": 29,
      "outputs": []
    },
    {
      "cell_type": "code",
      "metadata": {
        "id": "s355Eg7Lu4G4"
      },
      "source": [
        "df=browser\n",
        "\n",
        "X=df.loc[:,df.columns != 'yes']\n",
        "y=df['yes']\n",
        "X_train, X_test, y_train, y_test = train_test_split(X,y,train_size=0.7,random_state=42) "
      ],
      "execution_count": 30,
      "outputs": []
    },
    {
      "cell_type": "code",
      "metadata": {
        "colab": {
          "base_uri": "https://localhost:8080/",
          "height": 456
        },
        "id": "bhwgh5Xqu4OK",
        "outputId": "b06ff982-3f33-47c5-e775-dc65d9cdddd0"
      },
      "source": [
        "browser_log=log_model(X_train, X_test, y_train, y_test)\n",
        "browser_log"
      ],
      "execution_count": 31,
      "outputs": [
        {
          "output_type": "stream",
          "text": [
            "Validation Accuracy: 0.534 (0.046)\n",
            "Prediction RMSE Score: 0.6810337513731485\n",
            "Prediction R2_Squared: -0.8665104709013074\n",
            "Prediction MAE Score: 0.46380697050938335\n",
            "Feature: 0, Score: 0.11084\n",
            "Feature: 1, Score: 0.00916\n",
            "Feature: 2, Score: 0.00252\n",
            "Feature: 3, Score: -0.04485\n",
            "Feature: 4, Score: 0.00588\n"
          ],
          "name": "stdout"
        },
        {
          "output_type": "display_data",
          "data": {
            "image/png": "[encoded data removed]",
            "text/plain": [
              "<Figure size 432x288 with 1 Axes>"
            ]
          },
          "metadata": {
            "tags": []
          }
        }
      ]
    },
    {
      "cell_type": "code",
      "metadata": {
        "colab": {
          "base_uri": "https://localhost:8080/",
          "height": 456
        },
        "id": "vhvuY185vEtJ",
        "outputId": "a3f9444e-ddff-4c1f-e77b-94358762abae"
      },
      "source": [
        "browser_tree=decision_trees(X_train, X_test, y_train, y_test)\n",
        "browser_tree"
      ],
      "execution_count": 32,
      "outputs": [
        {
          "output_type": "stream",
          "text": [
            "Validation Accuracy: 0.503 (0.045)\n",
            "Prediction RMSE Score: 0.6829992208317931\n",
            "Prediction R2_Squared: -0.877299548767789\n",
            "Prediction MAE Score: 0.46648793565683644\n",
            "Feature: 0, Score: 0.09665\n",
            "Feature: 1, Score: 0.21454\n",
            "Feature: 2, Score: 0.30440\n",
            "Feature: 3, Score: 0.09753\n",
            "Feature: 4, Score: 0.28688\n"
          ],
          "name": "stdout"
        },
        {
          "output_type": "display_data",
          "data": {
            "image/png": "[encoded data removed]",
            "text/plain": [
              "<Figure size 432x288 with 1 Axes>"
            ]
          },
          "metadata": {
            "tags": []
          }
        }
      ]
    },
    {
      "cell_type": "code",
      "metadata": {
        "colab": {
          "base_uri": "https://localhost:8080/",
          "height": 478
        },
        "id": "qdO_gNSdvFBQ",
        "outputId": "8c08d3f7-cf66-4f49-d8b3-d6fd76851994"
      },
      "source": [
        "browser_xbg=xgboost_model(X_train, X_test, y_train, y_test)"
      ],
      "execution_count": 33,
      "outputs": [
        {
          "output_type": "stream",
          "text": [
            "Validation Accuracy: 0.499 (0.031)\n",
            "Prediction RMSE Score: 0.6849590504579741\n",
            "Prediction R2_Squared: -0.8880886266342705\n",
            "Prediction MAE Score: 0.4691689008042895\n",
            "Thresh=0.167, n=5, Accuracy: 53.08%\n",
            "Thresh=0.180, n=4, Accuracy: 54.16%\n",
            "Thresh=0.182, n=3, Accuracy: 52.01%\n",
            "Thresh=0.193, n=2, Accuracy: 53.35%\n",
            "Thresh=0.278, n=1, Accuracy: 54.16%\n"
          ],
          "name": "stdout"
        },
        {
          "output_type": "display_data",
          "data": {
            "image/png": "[encoded data removed]",
            "text/plain": [
              "<Figure size 432x288 with 1 Axes>"
            ]
          },
          "metadata": {
            "tags": []
          }
        }
      ]
    },
    {
      "cell_type": "code",
      "metadata": {
        "id": "HxPYKGDVvFJ5"
      },
      "source": [
        "Browser data, top 3 features per model\n",
        "\n",
        "Logistic Regression: browser_Chrome','browser_Chrome Mobile', 'browser_Chrome Mobile WebView' 4,5,6 | 645\n",
        "Decision Tree Classifier: hour,device_make,day\n",
        "xgboost: device_make,hour,day"
      ],
      "execution_count": null,
      "outputs": []
    },
    {
      "cell_type": "code",
      "metadata": {
        "id": "xL3lzz-bvYaa"
      },
      "source": [
        "df=platform\n",
        "\n",
        "X=df.loc[:,df.columns != 'yes']\n",
        "y=df['yes']\n",
        "X_train, X_test, y_train, y_test = train_test_split(X,y,train_size=0.7,random_state=42)  "
      ],
      "execution_count": 34,
      "outputs": []
    },
    {
      "cell_type": "code",
      "metadata": {
        "colab": {
          "base_uri": "https://localhost:8080/",
          "height": 456
        },
        "id": "1f0hwjzuvYi_",
        "outputId": "97b8e20f-3571-45eb-c6ba-18e5dfe483fd"
      },
      "source": [
        "platform_log=log_model(X_train, X_test, y_train, y_test)\n",
        "platform_log"
      ],
      "execution_count": 35,
      "outputs": [
        {
          "output_type": "stream",
          "text": [
            "Validation Accuracy: 0.521 (0.045)\n",
            "Prediction RMSE Score: 0.6751030107080135\n",
            "Prediction R2_Squared: -0.8341432373018627\n",
            "Prediction MAE Score: 0.45576407506702415\n",
            "Feature: 0, Score: 0.12845\n",
            "Feature: 1, Score: 0.00961\n",
            "Feature: 2, Score: 0.00128\n",
            "Feature: 3, Score: 0.63399\n",
            "Feature: 4, Score: 0.00693\n"
          ],
          "name": "stdout"
        },
        {
          "output_type": "display_data",
          "data": {
            "image/png": "[encoded data removed]",
            "text/plain": [
              "<Figure size 432x288 with 1 Axes>"
            ]
          },
          "metadata": {
            "tags": []
          }
        }
      ]
    },
    {
      "cell_type": "code",
      "metadata": {
        "colab": {
          "base_uri": "https://localhost:8080/",
          "height": 456
        },
        "id": "x53bgm-evYnY",
        "outputId": "648ac0f6-efd8-4f7f-9056-4d55fc2b1709"
      },
      "source": [
        "platform_tree=decision_trees(X_train, X_test, y_train, y_test)\n",
        "platform_tree"
      ],
      "execution_count": 36,
      "outputs": [
        {
          "output_type": "stream",
          "text": [
            "Validation Accuracy: 0.490 (0.034)\n",
            "Prediction RMSE Score: 0.690805179661132\n",
            "Prediction R2_Squared: -0.9204558602337152\n",
            "Prediction MAE Score: 0.4772117962466488\n",
            "Feature: 0, Score: 0.09494\n",
            "Feature: 1, Score: 0.23713\n",
            "Feature: 2, Score: 0.34237\n",
            "Feature: 3, Score: 0.00000\n",
            "Feature: 4, Score: 0.32557\n"
          ],
          "name": "stdout"
        },
        {
          "output_type": "display_data",
          "data": {
            "image/png": "[encoded data removed]",
            "text/plain": [
              "<Figure size 432x288 with 1 Axes>"
            ]
          },
          "metadata": {
            "tags": []
          }
        }
      ]
    },
    {
      "cell_type": "code",
      "metadata": {
        "colab": {
          "base_uri": "https://localhost:8080/",
          "height": 478
        },
        "id": "9GYQwJ6RvlUC",
        "outputId": "53a3f943-86fb-4135-d54c-abeaea4db7eb"
      },
      "source": [
        "platform_xgb=xgboost_model(X_train, X_test, y_train, y_test)\n",
        "platform_xgb"
      ],
      "execution_count": 37,
      "outputs": [
        {
          "output_type": "stream",
          "text": [
            "Validation Accuracy: 0.500 (0.030)\n",
            "Prediction RMSE Score: 0.6671133445503933\n",
            "Prediction R2_Squared: -0.7909869258359365\n",
            "Prediction MAE Score: 0.4450402144772118\n",
            "Thresh=0.000, n=5, Accuracy: 55.50%\n",
            "Thresh=0.231, n=4, Accuracy: 55.50%\n",
            "Thresh=0.242, n=3, Accuracy: 52.01%\n",
            "Thresh=0.262, n=2, Accuracy: 55.50%\n",
            "Thresh=0.264, n=1, Accuracy: 49.60%\n"
          ],
          "name": "stdout"
        },
        {
          "output_type": "display_data",
          "data": {
            "image/png": "[encoded data removed]",
            "text/plain": [
              "<Figure size 432x288 with 1 Axes>"
            ]
          },
          "metadata": {
            "tags": []
          }
        }
      ]
    },
    {
      "cell_type": "code",
      "metadata": {
        "id": "dPas5GQJvs3E"
      },
      "source": [
        "####   END     ####"
      ],
      "execution_count": null,
      "outputs": []
    }
  ]
}